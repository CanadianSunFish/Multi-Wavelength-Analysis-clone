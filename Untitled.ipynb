{
 "cells": [
  {
   "cell_type": "code",
   "execution_count": 6,
   "id": "b479f1af",
   "metadata": {},
   "outputs": [],
   "source": [
    "path2 = \"/cvmfs/icecube.opensciencegrid.org/users/shiqiyu/selected_xray_fullsky_seyferts_10yr.h5\"\n",
    "path = \"/uufs/chpc.utah.edu/common/home/u1234585/Multi-Wavelength-Analysis-main/BAT70mo_BASStables_1_3_7_8_9_10_joined_fixed.h5\"\n",
    "import h5py\n",
    "import numpy as np"
   ]
  },
  {
   "cell_type": "code",
   "execution_count": 10,
   "id": "0130d62d",
   "metadata": {},
   "outputs": [
    {
     "data": {
      "text/plain": [
       "<KeysViewHDF5 ['axis0', 'axis1', 'block0_items', 'block0_values', 'block1_items', 'block1_values']>"
      ]
     },
     "execution_count": 10,
     "metadata": {},
     "output_type": "execute_result"
    }
   ],
   "source": [
    "f = h5py.File(path,'r')\n",
    "f['xraysources'].keys()"
   ]
  },
  {
   "cell_type": "code",
   "execution_count": 14,
   "id": "804f25ab",
   "metadata": {},
   "outputs": [
    {
     "data": {
      "text/plain": [
       "[b'DZFLAG',\n",
       " b'CTPT_NAME',\n",
       " b'RAdeg',\n",
       " b'DECdeg',\n",
       " b'Z',\n",
       " b'Z_LOW',\n",
       " b'Z_UP',\n",
       " b'DIST',\n",
       " b'BZFLAG',\n",
       " b'logNH',\n",
       " b'logNH_low',\n",
       " b'logNH_up',\n",
       " b'f_logNH',\n",
       " b'Gamma',\n",
       " b'Gamma_up',\n",
       " b'Gamma_low',\n",
       " b'f_Gamma',\n",
       " b'l_Ecut',\n",
       " b'Ecut',\n",
       " b'f_Ecut',\n",
       " b'Ecut_up',\n",
       " b'Ecut_low',\n",
       " b'l_R',\n",
       " b'R',\n",
       " b'f_R',\n",
       " b'R_up',\n",
       " b'R_low',\n",
       " b'CBAT',\n",
       " b'f_CBAT',\n",
       " b'CBAT_up',\n",
       " b'CBAT_low',\n",
       " b'l_fscatt',\n",
       " b'fscatt',\n",
       " b'fscatt_up',\n",
       " b'fscatt_low',\n",
       " b'Temp',\n",
       " b'Temp_up',\n",
       " b'Temp_low',\n",
       " b'Temp2',\n",
       " b'Temp2_up',\n",
       " b'Temp2_low',\n",
       " b'Temp3',\n",
       " b'Temp3_up',\n",
       " b'Temp3_low',\n",
       " b'Model',\n",
       " b'f_Model',\n",
       " b'Stat',\n",
       " b'DOF',\n",
       " b'f_Stat',\n",
       " b'l_thetaOA',\n",
       " b'thetaOA',\n",
       " b'thetaOA_up',\n",
       " b'thetaOA_low',\n",
       " b'f_thetaOA',\n",
       " b'logNH-tor',\n",
       " b'logNH-tor_low',\n",
       " b'logNH-tor_up',\n",
       " b'Gamma-tor',\n",
       " b'Gamma-tor_up',\n",
       " b'Gamma-tor_low',\n",
       " b'l_fscatt-tor',\n",
       " b'fscatt-tor',\n",
       " b'fscatt-tor_up',\n",
       " b'fscatt-tor_low',\n",
       " b'Temp-tor',\n",
       " b'Temp-tor_up',\n",
       " b'Temp-tor_low',\n",
       " b'Temp2-tor',\n",
       " b'Temp2-tor_up',\n",
       " b'Temp2-tor_low',\n",
       " b'CBAT-tor',\n",
       " b'CBAT-tor_up',\n",
       " b'CBAT-tor_low',\n",
       " b'f_CBAT-tor',\n",
       " b'Stat-tor',\n",
       " b'DOF-tor',\n",
       " b'F2-10-obs',\n",
       " b'F14-195-obs',\n",
       " b'F2-10-intr',\n",
       " b'F20-50-intr',\n",
       " b'F14-150-intr',\n",
       " b'F14-195-intr',\n",
       " b'logL2-10-obs',\n",
       " b'logL14-195-obs',\n",
       " b'logL2-10-intr',\n",
       " b'logL20-50-intr',\n",
       " b'logL14-150-intr',\n",
       " b'logL14-195-intr',\n",
       " b'F2-10-intr-CT',\n",
       " b'logL2-10-intr-CT',\n",
       " b'TYPE',\n",
       " b'TYPE_105',\n",
       " b'COUNTERPART_NAME',\n",
       " b'COUNTERPART_NAME_105']"
      ]
     },
     "execution_count": 14,
     "metadata": {},
     "output_type": "execute_result"
    }
   ],
   "source": [
    "list(f['xraysources']['axis0'])"
   ]
  },
  {
   "cell_type": "code",
   "execution_count": 16,
   "id": "a4115590",
   "metadata": {},
   "outputs": [],
   "source": [
    "import pandas as pd"
   ]
  },
  {
   "cell_type": "code",
   "execution_count": 18,
   "id": "61a94ea6",
   "metadata": {},
   "outputs": [],
   "source": [
    "df = pd.read_hdf(path)"
   ]
  },
  {
   "cell_type": "code",
   "execution_count": 20,
   "id": "da8453b1",
   "metadata": {},
   "outputs": [
    {
     "name": "stdout",
     "output_type": "stream",
     "text": [
      "BAT_NAME\n",
      "SWIFTJ0001.0-0708    22.19\n",
      "SWIFTJ0001.6-7701    20.00\n",
      "SWIFTJ0002.5+0323    20.00\n",
      "SWIFTJ0003.3+2737    22.86\n",
      "SWIFTJ0005.0+7021    22.61\n",
      "                     ...  \n",
      "SWIFTJ2351.9-0109    20.00\n",
      "SWIFTJ2352.2+5845    22.57\n",
      "SWIFTJ2352.6-1707    21.73\n",
      "SWIFTJ2359.0-3038    20.46\n",
      "SWIFTJ2359.3-6058    23.16\n",
      "Name: logNH, Length: 838, dtype: float64\n"
     ]
    }
   ],
   "source": [
    "print(df['logNH'])"
   ]
  },
  {
   "cell_type": "code",
   "execution_count": 21,
   "id": "a873dd15-2541-4830-abc6-50e7f273173e",
   "metadata": {},
   "outputs": [
    {
     "name": "stdout",
     "output_type": "stream",
     "text": [
      "BAT_NAME\n",
      "SWIFTJ0001.0-0708    1.64\n",
      "SWIFTJ0001.6-7701    1.83\n",
      "SWIFTJ0002.5+0323    2.23\n",
      "SWIFTJ0003.3+2737    1.76\n",
      "SWIFTJ0005.0+7021    1.46\n",
      "                     ... \n",
      "SWIFTJ2351.9-0109    1.78\n",
      "SWIFTJ2352.2+5845    1.51\n",
      "SWIFTJ2352.6-1707    1.70\n",
      "SWIFTJ2359.0-3038    2.08\n",
      "SWIFTJ2359.3-6058    1.59\n",
      "Name: Gamma, Length: 838, dtype: float64\n"
     ]
    }
   ],
   "source": [
    "print(df['Gamma'])"
   ]
  },
  {
   "cell_type": "code",
   "execution_count": null,
   "id": "8bfb2cd6-7b93-40cc-b067-a42b55fde60a",
   "metadata": {},
   "outputs": [],
   "source": []
  }
 ],
 "metadata": {
  "kernelspec": {
   "display_name": "Python 3 (ipykernel)",
   "language": "python",
   "name": "python3"
  },
  "language_info": {
   "codemirror_mode": {
    "name": "ipython",
    "version": 3
   },
   "file_extension": ".py",
   "mimetype": "text/x-python",
   "name": "python",
   "nbconvert_exporter": "python",
   "pygments_lexer": "ipython3",
   "version": "3.12.4"
  }
 },
 "nbformat": 4,
 "nbformat_minor": 5
}
